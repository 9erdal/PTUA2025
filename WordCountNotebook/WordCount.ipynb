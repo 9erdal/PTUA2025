{
 "cells": [
  {
   "cell_type": "markdown",
   "metadata": {},
   "source": [
    "# Word Count Calculator\n",
    "reference: https://github.com/datamics/jupyter-word-count/blob/master/count-jupyter-nb-words.py"
   ]
  },
  {
   "cell_type": "code",
   "execution_count": 10,
   "metadata": {},
   "outputs": [
    {
     "name": "stdout",
     "output_type": "stream",
     "text": [
      "./WordCount.ipynb\n",
      "33 Words in notebooks' markdown\n",
      "4 Words in notebooks' heading\n",
      "410 Words in notebooks' code\n",
      "\n",
      "./PTUATestNotebook.ipynb\n",
      "223 Words in notebooks' markdown\n",
      "7 Words in notebooks' heading\n",
      "30 Words in notebooks' code\n",
      "\n"
     ]
    }
   ],
   "source": [
    "import io\n",
    "import os\n",
    "from nbformat import current\n",
    "\n",
    "total_markdown = 0\n",
    "total_heading = 0\n",
    "total_code = 0\n",
    "\n",
    "for root, dirs, files in os.walk(\".\"):\n",
    "    for file in files:\n",
    "        if file.endswith(\".ipynb\") and not file.endswith(\"checkpoint.ipynb\") :\n",
    "            print(os.path.join(root, file))\n",
    "            with io.open(os.path.join(root, file), 'r', encoding='utf-8') as f:\n",
    "                nb = current.read(f, 'json')\n",
    "\n",
    "            word_count_markdown = 0\n",
    "            word_count_heading = 0\n",
    "            word_count_code = 0\n",
    "            for cell in nb.worksheets[0].cells:\n",
    "                if cell.cell_type == \"markdown\":\n",
    "                    word_count_markdown += len(cell['source'].replace('#', '').lstrip().split(' '))\n",
    "                elif cell.cell_type == \"heading\":\n",
    "                    word_count_heading += len(cell['source'].replace('#', '').lstrip().split(' '))\n",
    "                elif cell.cell_type == \"code\":\n",
    "                    word_count_code += len(cell['input'].replace('#', '').lstrip().split(' '))\n",
    "            total_markdown += word_count_markdown\n",
    "            total_heading += word_count_heading\n",
    "            total_code += word_count_code\n",
    "            print(\"{} Words in notebooks' markdown\" .format(word_count_markdown))\n",
    "            print(\"{} Words in notebooks' heading\" .format(word_count_heading))\n",
    "            print(\"{} Words in notebooks' code\" .format(word_count_code))\n",
    "            print(\"\")\n",
    "\n",
    "#print(\"{} Words in notebooks' markdown\" .format(total_markdown))\n",
    "#print(\"{} Words in notebooks' heading\" .format(total_heading))\n",
    "#print(\"{} Words in notebooks' code\" .format(total_code))\n"
   ]
  },
  {
   "cell_type": "markdown",
   "metadata": {},
   "source": [
    "# Convert to HTML files"
   ]
  },
  {
   "cell_type": "code",
   "execution_count": 11,
   "metadata": {},
   "outputs": [
    {
     "name": "stdout",
     "output_type": "stream",
     "text": [
      "[NbConvertApp] Converting notebook WordCount.ipynb to html\n",
      "[NbConvertApp] Writing 587218 bytes to WordCount.html\n"
     ]
    }
   ],
   "source": [
    "!jupyter nbconvert WordCount.ipynb --to html \n"
   ]
  },
  {
   "cell_type": "markdown",
   "metadata": {},
   "source": [
    "# Convert to Tex/PDF files \n",
    "You will need to install nbconvert, mactex, xelatex, and pandoc.\n",
    "https://nbconvert.readthedocs.io/en/latest/install.html#installing-tex.\n",
    "\n",
    "You can also convert it to tex file then convert it through other latex editor or overleaf. "
   ]
  },
  {
   "cell_type": "code",
   "execution_count": 12,
   "metadata": {},
   "outputs": [
    {
     "name": "stdout",
     "output_type": "stream",
     "text": [
      "[NbConvertApp] Converting notebook WordCount.ipynb to latex\n",
      "[NbConvertApp] Writing 27332 bytes to WordCount.tex\n"
     ]
    }
   ],
   "source": [
    "!jupyter nbconvert WordCount.ipynb --to latex"
   ]
  },
  {
   "cell_type": "code",
   "execution_count": null,
   "metadata": {},
   "outputs": [],
   "source": [
    "!jupyter nbconvert WordCount.ipynb --to pdf"
   ]
  },
  {
   "cell_type": "code",
   "execution_count": null,
   "metadata": {},
   "outputs": [],
   "source": []
  }
 ],
 "metadata": {
  "kernelspec": {
   "display_name": "Python 3",
   "language": "python",
   "name": "python3"
  },
  "language_info": {
   "codemirror_mode": {
    "name": "ipython",
    "version": 3
   },
   "file_extension": ".py",
   "mimetype": "text/x-python",
   "name": "python",
   "nbconvert_exporter": "python",
   "pygments_lexer": "ipython3",
   "version": "3.8.8"
  }
 },
 "nbformat": 4,
 "nbformat_minor": 4
}
